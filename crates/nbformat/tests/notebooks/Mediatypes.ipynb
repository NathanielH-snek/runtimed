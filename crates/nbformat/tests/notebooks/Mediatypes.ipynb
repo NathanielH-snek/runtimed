{
 "cells": [
  {
   "cell_type": "code",
   "execution_count": 2,
   "id": "7ea16e7a-1817-4032-9d39-48462410b07a",
   "metadata": {
    "execution": {
     "iopub.execute_input": "2024-11-12T11:09:43.245184Z",
     "iopub.status.busy": "2024-11-12T11:09:43.244796Z",
     "iopub.status.idle": "2024-11-12T11:09:43.262569Z",
     "shell.execute_reply": "2024-11-12T11:09:43.262023Z",
     "shell.execute_reply.started": "2024-11-12T11:09:43.245165Z"
    }
   },
   "outputs": [
    {
     "data": {
      "image/svg+xml": [
       "<svg width=\"200\" height=\"200\" xmlns=\"http://www.w3.org/2000/svg\">\n",
       "    <defs>\n",
       "        <radialGradient id=\"grad1\" cx=\"50%\" cy=\"50%\" r=\"50%\" fx=\"50%\" fy=\"50%\">\n",
       "            <stop offset=\"0%\" style=\"stop-color:yellow;stop-opacity:1\" />\n",
       "            <stop offset=\"100%\" style=\"stop-color:gold;stop-opacity:1\" />\n",
       "        </radialGradient>\n",
       "    </defs>\n",
       "    <circle cx=\"100\" cy=\"100\" r=\"80\" fill=\"url(#grad1)\" />\n",
       "    <!-- Eyes -->\n",
       "    <circle cx=\"70\" cy=\"80\" r=\"10\" fill=\"black\" />\n",
       "    <circle cx=\"130\" cy=\"80\" r=\"10\" fill=\"black\" />\n",
       "    <!-- Smile -->\n",
       "    <path d=\"M 70 120 Q 100 150, 130 120\" stroke=\"black\" stroke-width=\"4\" fill=\"none\" />\n",
       "</svg>"
      ]
     },
     "metadata": {},
     "output_type": "display_data"
    }
   ],
   "source": [
    "from IPython.display import display_svg\n",
    "\n",
    "display_svg(\"\"\"<svg width=\"200\" height=\"200\" xmlns=\"http://www.w3.org/2000/svg\">\n",
    "    <defs>\n",
    "        <radialGradient id=\"grad1\" cx=\"50%\" cy=\"50%\" r=\"50%\" fx=\"50%\" fy=\"50%\">\n",
    "            <stop offset=\"0%\" style=\"stop-color:yellow;stop-opacity:1\" />\n",
    "            <stop offset=\"100%\" style=\"stop-color:gold;stop-opacity:1\" />\n",
    "        </radialGradient>\n",
    "    </defs>\n",
    "    <circle cx=\"100\" cy=\"100\" r=\"80\" fill=\"url(#grad1)\" />\n",
    "    <!-- Eyes -->\n",
    "    <circle cx=\"70\" cy=\"80\" r=\"10\" fill=\"black\" />\n",
    "    <circle cx=\"130\" cy=\"80\" r=\"10\" fill=\"black\" />\n",
    "    <!-- Smile -->\n",
    "    <path d=\"M 70 120 Q 100 150, 130 120\" stroke=\"black\" stroke-width=\"4\" fill=\"none\" />\n",
    "</svg>\"\"\", raw=True)"
   ]
  },
  {
   "cell_type": "code",
   "execution_count": 4,
   "id": "f3482291-7aad-4327-b3f1-700ffba5dcb5",
   "metadata": {
    "execution": {
     "iopub.execute_input": "2024-11-12T11:09:43.973458Z",
     "iopub.status.busy": "2024-11-12T11:09:43.972793Z",
     "iopub.status.idle": "2024-11-12T11:09:43.980590Z",
     "shell.execute_reply": "2024-11-12T11:09:43.979574Z",
     "shell.execute_reply.started": "2024-11-12T11:09:43.973414Z"
    },
    "panel-layout": {
     "height": 0,
     "visible": true,
     "width": 100
    }
   },
   "outputs": [
    {
     "data": {
      "application/javascript": [
       "console.log('logged')"
      ]
     },
     "metadata": {},
     "output_type": "display_data"
    }
   ],
   "source": [
    "from IPython.display import display_javascript\n",
    "\n",
    "display_javascript(\"console.log('logged')\", raw=True)"
   ]
  },
  {
   "cell_type": "code",
   "execution_count": 6,
   "id": "3c588eba-4bca-478c-b0cb-6f9c33a92e38",
   "metadata": {
    "execution": {
     "iopub.execute_input": "2024-11-12T11:09:44.586874Z",
     "iopub.status.busy": "2024-11-12T11:09:44.585980Z",
     "iopub.status.idle": "2024-11-12T11:09:44.591487Z",
     "shell.execute_reply": "2024-11-12T11:09:44.590828Z",
     "shell.execute_reply.started": "2024-11-12T11:09:44.586843Z"
    },
    "panel-layout": {
     "height": 0,
     "visible": true,
     "width": 100
    }
   },
   "outputs": [
    {
     "data": {
      "text/html": [
       "This is <i>simple</i>"
      ]
     },
     "metadata": {},
     "output_type": "display_data"
    }
   ],
   "source": [
    "from IPython.display import display_html\n",
    "\n",
    "display_html(\"This is <i>simple</i>\", raw=True)"
   ]
  },
  {
   "cell_type": "code",
   "execution_count": 8,
   "id": "b4c504d8-d8a8-464b-beca-8bc4497b2fa4",
   "metadata": {
    "execution": {
     "iopub.execute_input": "2024-11-12T11:09:45.511274Z",
     "iopub.status.busy": "2024-11-12T11:09:45.510620Z",
     "iopub.status.idle": "2024-11-12T11:09:45.518263Z",
     "shell.execute_reply": "2024-11-12T11:09:45.517439Z",
     "shell.execute_reply.started": "2024-11-12T11:09:45.511227Z"
    },
    "panel-layout": {
     "height": 0,
     "visible": true,
     "width": 100
    }
   },
   "outputs": [
    {
     "data": {
      "application/json": {
       "user": {
        "address": {
         "galaxy": "Andromeda",
         "moon": "Lunara",
         "planet": "Zyphoria",
         "zip": "A1B2C3"
        },
        "age": 27,
        "balance": 9876.54,
        "email": "zarastardust@galaxy.com",
        "friends": [
         {
          "age": 30,
          "email": "blipquasar@space.com",
          "name": "Blip Quasar"
         },
         {
          "age": 29,
          "email": "novacomet@universe.com",
          "name": "Nova Comet"
         }
        ],
        "hobbies": [
         "stargazing",
         "intergalactic travel",
         "quantum knitting",
         "alien cuisine tasting"
        ],
        "isActive": true,
        "lastLogin": "3023-10-01T14:30:00Z",
        "name": "Zara Stardust",
        "preferences": {
         "newsletter": true,
         "notifications": true,
         "theme": "cosmic"
        }
       }
      }
     },
     "metadata": {},
     "output_type": "display_data"
    }
   ],
   "source": [
    "from IPython.display import display_json\n",
    "\n",
    "display_json({\n",
    "    \"user\": {\n",
    "        \"name\": \"Zara Stardust\",\n",
    "        \"age\": 27,\n",
    "        \"email\": \"zarastardust@galaxy.com\",\n",
    "        \"isActive\": True,\n",
    "        \"balance\": 9876.54,\n",
    "        \"hobbies\": [\n",
    "            \"stargazing\",\n",
    "            \"intergalactic travel\",\n",
    "            \"quantum knitting\",\n",
    "            \"alien cuisine tasting\"\n",
    "        ],\n",
    "        \"address\": {\n",
    "            \"planet\": \"Zyphoria\",\n",
    "            \"moon\": \"Lunara\",\n",
    "            \"galaxy\": \"Andromeda\",\n",
    "            \"zip\": \"A1B2C3\"\n",
    "        },\n",
    "        \"preferences\": {\n",
    "            \"newsletter\": True,\n",
    "            \"notifications\": True,\n",
    "            \"theme\": \"cosmic\"\n",
    "        },\n",
    "        \"friends\": [\n",
    "            {\n",
    "                \"name\": \"Blip Quasar\",\n",
    "                \"age\": 30,\n",
    "                \"email\": \"blipquasar@space.com\"\n",
    "            },\n",
    "            {\n",
    "                \"name\": \"Nova Comet\",\n",
    "                \"age\": 29,\n",
    "                \"email\": \"novacomet@universe.com\"\n",
    "            }\n",
    "        ],\n",
    "        \"lastLogin\": \"3023-10-01T14:30:00Z\"\n",
    "    }\n",
    "}, raw=True)"
   ]
  },
  {
   "cell_type": "code",
   "execution_count": 10,
   "id": "32d145cf-f760-4173-8dfd-3b468d3dc209",
   "metadata": {
    "execution": {
     "iopub.execute_input": "2024-11-12T11:09:46.240102Z",
     "iopub.status.busy": "2024-11-12T11:09:46.239598Z",
     "iopub.status.idle": "2024-11-12T11:09:46.245522Z",
     "shell.execute_reply": "2024-11-12T11:09:46.244554Z",
     "shell.execute_reply.started": "2024-11-12T11:09:46.240056Z"
    }
   },
   "outputs": [
    {
     "data": {
      "text/latex": [
       "\n",
       "Here is some inline math: \\( a^2 + b^2 = c^2 \\).\n",
       "\n",
       "And here is a block equation:\n",
       "\n",
       "\\[\n",
       "\\int_0^\\infty e^{-x^2} \\, dx = \\frac{\\sqrt{\\pi}}{2}\n",
       "\\]\n"
      ]
     },
     "metadata": {},
     "output_type": "display_data"
    }
   ],
   "source": [
    "from IPython.display import display_latex\n",
    "\n",
    "display_latex(r\"\"\"\n",
    "Here is some inline math: \\( a^2 + b^2 = c^2 \\).\n",
    "\n",
    "And here is a block equation:\n",
    "\n",
    "\\[\n",
    "\\int_0^\\infty e^{-x^2} \\, dx = \\frac{\\sqrt{\\pi}}{2}\n",
    "\\]\n",
    "\"\"\", raw=True)"
   ]
  },
  {
   "cell_type": "code",
   "execution_count": 25,
   "id": "eec5ad55-9acf-444e-a4ad-dfabd2d40a5f",
   "metadata": {
    "execution": {
     "iopub.execute_input": "2024-11-12T11:13:35.053725Z",
     "iopub.status.busy": "2024-11-12T11:13:35.053589Z",
     "iopub.status.idle": "2024-11-12T11:13:35.055852Z",
     "shell.execute_reply": "2024-11-12T11:13:35.055633Z",
     "shell.execute_reply.started": "2024-11-12T11:13:35.053715Z"
    }
   },
   "outputs": [
    {
     "data": {
      "text/markdown": [
       "\n",
       "\n",
       "# Markdown Features Test\n",
       "\n",
       "## Headings\n",
       "### This is a Level 3 Heading\n",
       "#### This is a Level 4 Heading\n",
       "\n",
       "## Emphasis\n",
       "- *Italic text* using asterisks\n",
       "- _Italic text_ using underscores\n",
       "- **Bold text** using double asterisks\n",
       "- __Bold text__ using double underscores\n",
       "- **_Bold and italic_** using a combination\n",
       "\n",
       "## Lists\n",
       "### Unordered List\n",
       "- Item 1\n",
       "- Item 2\n",
       "  - Subitem 2.1\n",
       "  - Subitem 2.2\n",
       "- Item 3\n",
       "\n",
       "### Ordered List\n",
       "1. First item\n",
       "2. Second item\n",
       "   1. Subitem 2.1\n",
       "   2. Subitem 2.2\n",
       "3. Third item\n",
       "\n",
       "## Links and Images\n",
       "- [OpenAI](https://www.openai.com)\n",
       "- ![Placeholder Image](https://via.placeholder.com/150)\n",
       "\n",
       "## Blockquotes\n",
       "> This is a blockquote.  \n",
       "> It can span multiple lines.\n",
       "\n",
       "## Code\n",
       "### Inline Code\n",
       "Here is some inline code: `print(\"Hello, World!\")`\n",
       "\n",
       "### Code Block\n",
       "```\n",
       "def greet():\n",
       "  print(\"Hello\")\n",
       "```\n",
       "\n",
       "## Horizontal Rule\n",
       "---\n",
       "\n",
       "## Tables\n",
       "| Header 1 | Header 2 | Header 3 |\n",
       "|----------|----------|----------|\n",
       "| Row 1    | Data 1   | Data 2   |\n",
       "| Row 2    | Data 3   | Data 4   |\n",
       "\n",
       "## Task List\n",
       "- [x] Completed task\n",
       "- [ ] Incomplete task\n",
       "\n",
       "## Emojis\n",
       "Here are some emojis for fun! 🎉 😄 🚀\n",
       "\n",
       "- :smile: for a smile\n",
       "- :rocket: for launching ideas\n",
       "- :tada: for celebrations\n"
      ]
     },
     "metadata": {},
     "output_type": "display_data"
    }
   ],
   "source": [
    "from IPython.display import display_markdown\n",
    "\n",
    "display_markdown(r\"\"\"\n",
    "\n",
    "# Markdown Features Test\n",
    "\n",
    "## Headings\n",
    "### This is a Level 3 Heading\n",
    "#### This is a Level 4 Heading\n",
    "\n",
    "## Emphasis\n",
    "- *Italic text* using asterisks\n",
    "- _Italic text_ using underscores\n",
    "- **Bold text** using double asterisks\n",
    "- __Bold text__ using double underscores\n",
    "- **_Bold and italic_** using a combination\n",
    "\n",
    "## Lists\n",
    "### Unordered List\n",
    "- Item 1\n",
    "- Item 2\n",
    "  - Subitem 2.1\n",
    "  - Subitem 2.2\n",
    "- Item 3\n",
    "\n",
    "### Ordered List\n",
    "1. First item\n",
    "2. Second item\n",
    "   1. Subitem 2.1\n",
    "   2. Subitem 2.2\n",
    "3. Third item\n",
    "\n",
    "## Links and Images\n",
    "- [OpenAI](https://www.openai.com)\n",
    "- ![Placeholder Image](https://via.placeholder.com/150)\n",
    "\n",
    "## Blockquotes\n",
    "> This is a blockquote.  \n",
    "> It can span multiple lines.\n",
    "\n",
    "## Code\n",
    "### Inline Code\n",
    "Here is some inline code: `print(\"Hello, World!\")`\n",
    "\n",
    "### Code Block\n",
    "```\n",
    "def greet():\n",
    "  print(\"Hello\")\n",
    "```\n",
    "\n",
    "## Horizontal Rule\n",
    "---\n",
    "\n",
    "## Tables\n",
    "| Header 1 | Header 2 | Header 3 |\n",
    "|----------|----------|----------|\n",
    "| Row 1    | Data 1   | Data 2   |\n",
    "| Row 2    | Data 3   | Data 4   |\n",
    "\n",
    "## Task List\n",
    "- [x] Completed task\n",
    "- [ ] Incomplete task\n",
    "\n",
    "## Emojis\n",
    "Here are some emojis for fun! 🎉 😄 🚀\n",
    "\n",
    "- :smile: for a smile\n",
    "- :rocket: for launching ideas\n",
    "- :tada: for celebrations\n",
    "\"\"\", raw=True)"
   ]
  },
  {
   "cell_type": "code",
   "execution_count": 47,
   "id": "7065aec9-15da-4464-bbba-2cfc2f65ec4d",
   "metadata": {
    "execution": {
     "iopub.execute_input": "2024-11-12T11:27:52.435016Z",
     "iopub.status.busy": "2024-11-12T11:27:52.434292Z",
     "iopub.status.idle": "2024-11-12T11:27:52.442503Z",
     "shell.execute_reply": "2024-11-12T11:27:52.441735Z",
     "shell.execute_reply.started": "2024-11-12T11:27:52.434965Z"
    }
   },
   "outputs": [
    {
     "data": {
      "application/geo+json": {
       "features": [
        {
         "geometry": {
          "coordinates": [
           -122.023,
           36.962
          ],
          "type": "Point"
         },
         "properties": {
          "prop0": "value0"
         },
         "type": "Feature"
        }
       ],
       "type": "FeatureCollection"
      },
      "text/plain": [
       "<IPython.display.GeoJSON object>"
      ]
     },
     "metadata": {
      "application/geo+json": {
       "expanded": false,
       "root": "root"
      }
     },
     "output_type": "display_data"
    }
   ],
   "source": [
    "import geojson\n",
    "from IPython.display import GeoJSON\n",
    "\n",
    "# Create a simple GeoJSON feature\n",
    "feature = geojson.Feature(\n",
    "    geometry=geojson.Point((-122.023, 36.962)),\n",
    "    properties={\"prop0\": \"value0\"}\n",
    ")\n",
    "geojson_obj = geojson.FeatureCollection([feature])\n",
    "\n",
    "# Display the GeoJSON object\n",
    "GeoJSON(geojson_obj)"
   ]
  },
  {
   "cell_type": "code",
   "execution_count": 24,
   "id": "5f3fa9b4-7f7b-481a-8de9-638299077225",
   "metadata": {
    "execution": {
     "iopub.execute_input": "2024-11-12T11:24:52.407362Z",
     "iopub.status.busy": "2024-11-12T11:24:52.407216Z",
     "iopub.status.idle": "2024-11-12T11:24:52.411620Z",
     "shell.execute_reply": "2024-11-12T11:24:52.411384Z",
     "shell.execute_reply.started": "2024-11-12T11:24:52.407351Z"
    }
   },
   "outputs": [
    {
     "data": {
      "application/vnd.plotly.v1+json": {
       "config": {
        "plotlyServerURL": "https://plot.ly"
       },
       "data": [
        {
         "lat": [
          40,
          50,
          60
         ],
         "lon": [
          -100,
          -90,
          -80
         ],
         "mode": "markers",
         "type": "scattergeo"
        }
       ],
       "layout": {
        "autosize": true,
        "geo": {},
        "template": {
         "data": {
          "bar": [
           {
            "error_x": {
             "color": "#2a3f5f"
            },
            "error_y": {
             "color": "#2a3f5f"
            },
            "marker": {
             "line": {
              "color": "#E5ECF6",
              "width": 0.5
             },
             "pattern": {
              "fillmode": "overlay",
              "size": 10,
              "solidity": 0.2
             }
            },
            "type": "bar"
           }
          ],
          "barpolar": [
           {
            "marker": {
             "line": {
              "color": "#E5ECF6",
              "width": 0.5
             },
             "pattern": {
              "fillmode": "overlay",
              "size": 10,
              "solidity": 0.2
             }
            },
            "type": "barpolar"
           }
          ],
          "carpet": [
           {
            "aaxis": {
             "endlinecolor": "#2a3f5f",
             "gridcolor": "white",
             "linecolor": "white",
             "minorgridcolor": "white",
             "startlinecolor": "#2a3f5f"
            },
            "baxis": {
             "endlinecolor": "#2a3f5f",
             "gridcolor": "white",
             "linecolor": "white",
             "minorgridcolor": "white",
             "startlinecolor": "#2a3f5f"
            },
            "type": "carpet"
           }
          ],
          "choropleth": [
           {
            "colorbar": {
             "outlinewidth": 0,
             "ticks": ""
            },
            "type": "choropleth"
           }
          ],
          "contour": [
           {
            "colorbar": {
             "outlinewidth": 0,
             "ticks": ""
            },
            "colorscale": [
             [
              0,
              "#0d0887"
             ],
             [
              0.1111111111111111,
              "#46039f"
             ],
             [
              0.2222222222222222,
              "#7201a8"
             ],
             [
              0.3333333333333333,
              "#9c179e"
             ],
             [
              0.4444444444444444,
              "#bd3786"
             ],
             [
              0.5555555555555556,
              "#d8576b"
             ],
             [
              0.6666666666666666,
              "#ed7953"
             ],
             [
              0.7777777777777778,
              "#fb9f3a"
             ],
             [
              0.8888888888888888,
              "#fdca26"
             ],
             [
              1,
              "#f0f921"
             ]
            ],
            "type": "contour"
           }
          ],
          "contourcarpet": [
           {
            "colorbar": {
             "outlinewidth": 0,
             "ticks": ""
            },
            "type": "contourcarpet"
           }
          ],
          "heatmap": [
           {
            "colorbar": {
             "outlinewidth": 0,
             "ticks": ""
            },
            "colorscale": [
             [
              0,
              "#0d0887"
             ],
             [
              0.1111111111111111,
              "#46039f"
             ],
             [
              0.2222222222222222,
              "#7201a8"
             ],
             [
              0.3333333333333333,
              "#9c179e"
             ],
             [
              0.4444444444444444,
              "#bd3786"
             ],
             [
              0.5555555555555556,
              "#d8576b"
             ],
             [
              0.6666666666666666,
              "#ed7953"
             ],
             [
              0.7777777777777778,
              "#fb9f3a"
             ],
             [
              0.8888888888888888,
              "#fdca26"
             ],
             [
              1,
              "#f0f921"
             ]
            ],
            "type": "heatmap"
           }
          ],
          "heatmapgl": [
           {
            "colorbar": {
             "outlinewidth": 0,
             "ticks": ""
            },
            "colorscale": [
             [
              0,
              "#0d0887"
             ],
             [
              0.1111111111111111,
              "#46039f"
             ],
             [
              0.2222222222222222,
              "#7201a8"
             ],
             [
              0.3333333333333333,
              "#9c179e"
             ],
             [
              0.4444444444444444,
              "#bd3786"
             ],
             [
              0.5555555555555556,
              "#d8576b"
             ],
             [
              0.6666666666666666,
              "#ed7953"
             ],
             [
              0.7777777777777778,
              "#fb9f3a"
             ],
             [
              0.8888888888888888,
              "#fdca26"
             ],
             [
              1,
              "#f0f921"
             ]
            ],
            "type": "heatmapgl"
           }
          ],
          "histogram": [
           {
            "marker": {
             "pattern": {
              "fillmode": "overlay",
              "size": 10,
              "solidity": 0.2
             }
            },
            "type": "histogram"
           }
          ],
          "histogram2d": [
           {
            "colorbar": {
             "outlinewidth": 0,
             "ticks": ""
            },
            "colorscale": [
             [
              0,
              "#0d0887"
             ],
             [
              0.1111111111111111,
              "#46039f"
             ],
             [
              0.2222222222222222,
              "#7201a8"
             ],
             [
              0.3333333333333333,
              "#9c179e"
             ],
             [
              0.4444444444444444,
              "#bd3786"
             ],
             [
              0.5555555555555556,
              "#d8576b"
             ],
             [
              0.6666666666666666,
              "#ed7953"
             ],
             [
              0.7777777777777778,
              "#fb9f3a"
             ],
             [
              0.8888888888888888,
              "#fdca26"
             ],
             [
              1,
              "#f0f921"
             ]
            ],
            "type": "histogram2d"
           }
          ],
          "histogram2dcontour": [
           {
            "colorbar": {
             "outlinewidth": 0,
             "ticks": ""
            },
            "colorscale": [
             [
              0,
              "#0d0887"
             ],
             [
              0.1111111111111111,
              "#46039f"
             ],
             [
              0.2222222222222222,
              "#7201a8"
             ],
             [
              0.3333333333333333,
              "#9c179e"
             ],
             [
              0.4444444444444444,
              "#bd3786"
             ],
             [
              0.5555555555555556,
              "#d8576b"
             ],
             [
              0.6666666666666666,
              "#ed7953"
             ],
             [
              0.7777777777777778,
              "#fb9f3a"
             ],
             [
              0.8888888888888888,
              "#fdca26"
             ],
             [
              1,
              "#f0f921"
             ]
            ],
            "type": "histogram2dcontour"
           }
          ],
          "mesh3d": [
           {
            "colorbar": {
             "outlinewidth": 0,
             "ticks": ""
            },
            "type": "mesh3d"
           }
          ],
          "parcoords": [
           {
            "line": {
             "colorbar": {
              "outlinewidth": 0,
              "ticks": ""
             }
            },
            "type": "parcoords"
           }
          ],
          "pie": [
           {
            "automargin": true,
            "type": "pie"
           }
          ],
          "scatter": [
           {
            "fillpattern": {
             "fillmode": "overlay",
             "size": 10,
             "solidity": 0.2
            },
            "type": "scatter"
           }
          ],
          "scatter3d": [
           {
            "line": {
             "colorbar": {
              "outlinewidth": 0,
              "ticks": ""
             }
            },
            "marker": {
             "colorbar": {
              "outlinewidth": 0,
              "ticks": ""
             }
            },
            "type": "scatter3d"
           }
          ],
          "scattercarpet": [
           {
            "marker": {
             "colorbar": {
              "outlinewidth": 0,
              "ticks": ""
             }
            },
            "type": "scattercarpet"
           }
          ],
          "scattergeo": [
           {
            "marker": {
             "colorbar": {
              "outlinewidth": 0,
              "ticks": ""
             }
            },
            "type": "scattergeo"
           }
          ],
          "scattergl": [
           {
            "marker": {
             "colorbar": {
              "outlinewidth": 0,
              "ticks": ""
             }
            },
            "type": "scattergl"
           }
          ],
          "scattermapbox": [
           {
            "marker": {
             "colorbar": {
              "outlinewidth": 0,
              "ticks": ""
             }
            },
            "type": "scattermapbox"
           }
          ],
          "scatterpolar": [
           {
            "marker": {
             "colorbar": {
              "outlinewidth": 0,
              "ticks": ""
             }
            },
            "type": "scatterpolar"
           }
          ],
          "scatterpolargl": [
           {
            "marker": {
             "colorbar": {
              "outlinewidth": 0,
              "ticks": ""
             }
            },
            "type": "scatterpolargl"
           }
          ],
          "scatterternary": [
           {
            "marker": {
             "colorbar": {
              "outlinewidth": 0,
              "ticks": ""
             }
            },
            "type": "scatterternary"
           }
          ],
          "surface": [
           {
            "colorbar": {
             "outlinewidth": 0,
             "ticks": ""
            },
            "colorscale": [
             [
              0,
              "#0d0887"
             ],
             [
              0.1111111111111111,
              "#46039f"
             ],
             [
              0.2222222222222222,
              "#7201a8"
             ],
             [
              0.3333333333333333,
              "#9c179e"
             ],
             [
              0.4444444444444444,
              "#bd3786"
             ],
             [
              0.5555555555555556,
              "#d8576b"
             ],
             [
              0.6666666666666666,
              "#ed7953"
             ],
             [
              0.7777777777777778,
              "#fb9f3a"
             ],
             [
              0.8888888888888888,
              "#fdca26"
             ],
             [
              1,
              "#f0f921"
             ]
            ],
            "type": "surface"
           }
          ],
          "table": [
           {
            "cells": {
             "fill": {
              "color": "#EBF0F8"
             },
             "line": {
              "color": "white"
             }
            },
            "header": {
             "fill": {
              "color": "#C8D4E3"
             },
             "line": {
              "color": "white"
             }
            },
            "type": "table"
           }
          ]
         },
         "layout": {
          "annotationdefaults": {
           "arrowcolor": "#2a3f5f",
           "arrowhead": 0,
           "arrowwidth": 1
          },
          "autotypenumbers": "strict",
          "coloraxis": {
           "colorbar": {
            "outlinewidth": 0,
            "ticks": ""
           }
          },
          "colorscale": {
           "diverging": [
            [
             0,
             "#8e0152"
            ],
            [
             0.1,
             "#c51b7d"
            ],
            [
             0.2,
             "#de77ae"
            ],
            [
             0.3,
             "#f1b6da"
            ],
            [
             0.4,
             "#fde0ef"
            ],
            [
             0.5,
             "#f7f7f7"
            ],
            [
             0.6,
             "#e6f5d0"
            ],
            [
             0.7,
             "#b8e186"
            ],
            [
             0.8,
             "#7fbc41"
            ],
            [
             0.9,
             "#4d9221"
            ],
            [
             1,
             "#276419"
            ]
           ],
           "sequential": [
            [
             0,
             "#0d0887"
            ],
            [
             0.1111111111111111,
             "#46039f"
            ],
            [
             0.2222222222222222,
             "#7201a8"
            ],
            [
             0.3333333333333333,
             "#9c179e"
            ],
            [
             0.4444444444444444,
             "#bd3786"
            ],
            [
             0.5555555555555556,
             "#d8576b"
            ],
            [
             0.6666666666666666,
             "#ed7953"
            ],
            [
             0.7777777777777778,
             "#fb9f3a"
            ],
            [
             0.8888888888888888,
             "#fdca26"
            ],
            [
             1,
             "#f0f921"
            ]
           ],
           "sequentialminus": [
            [
             0,
             "#0d0887"
            ],
            [
             0.1111111111111111,
             "#46039f"
            ],
            [
             0.2222222222222222,
             "#7201a8"
            ],
            [
             0.3333333333333333,
             "#9c179e"
            ],
            [
             0.4444444444444444,
             "#bd3786"
            ],
            [
             0.5555555555555556,
             "#d8576b"
            ],
            [
             0.6666666666666666,
             "#ed7953"
            ],
            [
             0.7777777777777778,
             "#fb9f3a"
            ],
            [
             0.8888888888888888,
             "#fdca26"
            ],
            [
             1,
             "#f0f921"
            ]
           ]
          },
          "colorway": [
           "#636efa",
           "#EF553B",
           "#00cc96",
           "#ab63fa",
           "#FFA15A",
           "#19d3f3",
           "#FF6692",
           "#B6E880",
           "#FF97FF",
           "#FECB52"
          ],
          "font": {
           "color": "#2a3f5f"
          },
          "geo": {
           "bgcolor": "white",
           "lakecolor": "white",
           "landcolor": "#E5ECF6",
           "showlakes": true,
           "showland": true,
           "subunitcolor": "white"
          },
          "hoverlabel": {
           "align": "left"
          },
          "hovermode": "closest",
          "mapbox": {
           "style": "light"
          },
          "paper_bgcolor": "white",
          "plot_bgcolor": "#E5ECF6",
          "polar": {
           "angularaxis": {
            "gridcolor": "white",
            "linecolor": "white",
            "ticks": ""
           },
           "bgcolor": "#E5ECF6",
           "radialaxis": {
            "gridcolor": "white",
            "linecolor": "white",
            "ticks": ""
           }
          },
          "scene": {
           "xaxis": {
            "backgroundcolor": "#E5ECF6",
            "gridcolor": "white",
            "gridwidth": 2,
            "linecolor": "white",
            "showbackground": true,
            "ticks": "",
            "zerolinecolor": "white"
           },
           "yaxis": {
            "backgroundcolor": "#E5ECF6",
            "gridcolor": "white",
            "gridwidth": 2,
            "linecolor": "white",
            "showbackground": true,
            "ticks": "",
            "zerolinecolor": "white"
           },
           "zaxis": {
            "backgroundcolor": "#E5ECF6",
            "gridcolor": "white",
            "gridwidth": 2,
            "linecolor": "white",
            "showbackground": true,
            "ticks": "",
            "zerolinecolor": "white"
           }
          },
          "shapedefaults": {
           "line": {
            "color": "#2a3f5f"
           }
          },
          "ternary": {
           "aaxis": {
            "gridcolor": "white",
            "linecolor": "white",
            "ticks": ""
           },
           "baxis": {
            "gridcolor": "white",
            "linecolor": "white",
            "ticks": ""
           },
           "bgcolor": "#E5ECF6",
           "caxis": {
            "gridcolor": "white",
            "linecolor": "white",
            "ticks": ""
           }
          },
          "title": {
           "x": 0.05
          },
          "xaxis": {
           "automargin": true,
           "gridcolor": "white",
           "linecolor": "white",
           "ticks": "",
           "title": {
            "standoff": 15
           },
           "zerolinecolor": "white",
           "zerolinewidth": 2
          },
          "yaxis": {
           "automargin": true,
           "gridcolor": "white",
           "linecolor": "white",
           "ticks": "",
           "title": {
            "standoff": 15
           },
           "zerolinecolor": "white",
           "zerolinewidth": 2
          }
         }
        },
        "title": {
         "text": "Sample Plotly Scattergeo"
        }
       }
      },
      "image/png": "[encoded data removed]",
      "text/html": [
       "<div>                            <div id=\"e37ac878-a5d6-4e11-b866-5104d6a5d179\" class=\"plotly-graph-div\" style=\"height:525px; width:100%;\"></div>            <script type=\"text/javascript\">                require([\"plotly\"], function(Plotly) {                    window.PLOTLYENV=window.PLOTLYENV || {};                                    if (document.getElementById(\"e37ac878-a5d6-4e11-b866-5104d6a5d179\")) {                    Plotly.newPlot(                        \"e37ac878-a5d6-4e11-b866-5104d6a5d179\",                        [{\"lat\":[40,50,60],\"lon\":[-100,-90,-80],\"mode\":\"markers\",\"type\":\"scattergeo\"}],                        {\"template\":{\"data\":{\"histogram2dcontour\":[{\"type\":\"histogram2dcontour\",\"colorbar\":{\"outlinewidth\":0,\"ticks\":\"\"},\"colorscale\":[[0.0,\"#0d0887\"],[0.1111111111111111,\"#46039f\"],[0.2222222222222222,\"#7201a8\"],[0.3333333333333333,\"#9c179e\"],[0.4444444444444444,\"#bd3786\"],[0.5555555555555556,\"#d8576b\"],[0.6666666666666666,\"#ed7953\"],[0.7777777777777778,\"#fb9f3a\"],[0.8888888888888888,\"#fdca26\"],[1.0,\"#f0f921\"]]}],\"choropleth\":[{\"type\":\"choropleth\",\"colorbar\":{\"outlinewidth\":0,\"ticks\":\"\"}}],\"histogram2d\":[{\"type\":\"histogram2d\",\"colorbar\":{\"outlinewidth\":0,\"ticks\":\"\"},\"colorscale\":[[0.0,\"#0d0887\"],[0.1111111111111111,\"#46039f\"],[0.2222222222222222,\"#7201a8\"],[0.3333333333333333,\"#9c179e\"],[0.4444444444444444,\"#bd3786\"],[0.5555555555555556,\"#d8576b\"],[0.6666666666666666,\"#ed7953\"],[0.7777777777777778,\"#fb9f3a\"],[0.8888888888888888,\"#fdca26\"],[1.0,\"#f0f921\"]]}],\"heatmap\":[{\"type\":\"heatmap\",\"colorbar\":{\"outlinewidth\":0,\"ticks\":\"\"},\"colorscale\":[[0.0,\"#0d0887\"],[0.1111111111111111,\"#46039f\"],[0.2222222222222222,\"#7201a8\"],[0.3333333333333333,\"#9c179e\"],[0.4444444444444444,\"#bd3786\"],[0.5555555555555556,\"#d8576b\"],[0.6666666666666666,\"#ed7953\"],[0.7777777777777778,\"#fb9f3a\"],[0.8888888888888888,\"#fdca26\"],[1.0,\"#f0f921\"]]}],\"heatmapgl\":[{\"type\":\"heatmapgl\",\"colorbar\":{\"outlinewidth\":0,\"ticks\":\"\"},\"colorscale\":[[0.0,\"#0d0887\"],[0.1111111111111111,\"#46039f\"],[0.2222222222222222,\"#7201a8\"],[0.3333333333333333,\"#9c179e\"],[0.4444444444444444,\"#bd3786\"],[0.5555555555555556,\"#d8576b\"],[0.6666666666666666,\"#ed7953\"],[0.7777777777777778,\"#fb9f3a\"],[0.8888888888888888,\"#fdca26\"],[1.0,\"#f0f921\"]]}],\"contourcarpet\":[{\"type\":\"contourcarpet\",\"colorbar\":{\"outlinewidth\":0,\"ticks\":\"\"}}],\"contour\":[{\"type\":\"contour\",\"colorbar\":{\"outlinewidth\":0,\"ticks\":\"\"},\"colorscale\":[[0.0,\"#0d0887\"],[0.1111111111111111,\"#46039f\"],[0.2222222222222222,\"#7201a8\"],[0.3333333333333333,\"#9c179e\"],[0.4444444444444444,\"#bd3786\"],[0.5555555555555556,\"#d8576b\"],[0.6666666666666666,\"#ed7953\"],[0.7777777777777778,\"#fb9f3a\"],[0.8888888888888888,\"#fdca26\"],[1.0,\"#f0f921\"]]}],\"surface\":[{\"type\":\"surface\",\"colorbar\":{\"outlinewidth\":0,\"ticks\":\"\"},\"colorscale\":[[0.0,\"#0d0887\"],[0.1111111111111111,\"#46039f\"],[0.2222222222222222,\"#7201a8\"],[0.3333333333333333,\"#9c179e\"],[0.4444444444444444,\"#bd3786\"],[0.5555555555555556,\"#d8576b\"],[0.6666666666666666,\"#ed7953\"],[0.7777777777777778,\"#fb9f3a\"],[0.8888888888888888,\"#fdca26\"],[1.0,\"#f0f921\"]]}],\"mesh3d\":[{\"type\":\"mesh3d\",\"colorbar\":{\"outlinewidth\":0,\"ticks\":\"\"}}],\"scatter\":[{\"fillpattern\":{\"fillmode\":\"overlay\",\"size\":10,\"solidity\":0.2},\"type\":\"scatter\"}],\"parcoords\":[{\"type\":\"parcoords\",\"line\":{\"colorbar\":{\"outlinewidth\":0,\"ticks\":\"\"}}}],\"scatterpolargl\":[{\"type\":\"scatterpolargl\",\"marker\":{\"colorbar\":{\"outlinewidth\":0,\"ticks\":\"\"}}}],\"bar\":[{\"error_x\":{\"color\":\"#2a3f5f\"},\"error_y\":{\"color\":\"#2a3f5f\"},\"marker\":{\"line\":{\"color\":\"#E5ECF6\",\"width\":0.5},\"pattern\":{\"fillmode\":\"overlay\",\"size\":10,\"solidity\":0.2}},\"type\":\"bar\"}],\"scattergeo\":[{\"type\":\"scattergeo\",\"marker\":{\"colorbar\":{\"outlinewidth\":0,\"ticks\":\"\"}}}],\"scatterpolar\":[{\"type\":\"scatterpolar\",\"marker\":{\"colorbar\":{\"outlinewidth\":0,\"ticks\":\"\"}}}],\"histogram\":[{\"marker\":{\"pattern\":{\"fillmode\":\"overlay\",\"size\":10,\"solidity\":0.2}},\"type\":\"histogram\"}],\"scattergl\":[{\"type\":\"scattergl\",\"marker\":{\"colorbar\":{\"outlinewidth\":0,\"ticks\":\"\"}}}],\"scatter3d\":[{\"type\":\"scatter3d\",\"line\":{\"colorbar\":{\"outlinewidth\":0,\"ticks\":\"\"}},\"marker\":{\"colorbar\":{\"outlinewidth\":0,\"ticks\":\"\"}}}],\"scattermapbox\":[{\"type\":\"scattermapbox\",\"marker\":{\"colorbar\":{\"outlinewidth\":0,\"ticks\":\"\"}}}],\"scatterternary\":[{\"type\":\"scatterternary\",\"marker\":{\"colorbar\":{\"outlinewidth\":0,\"ticks\":\"\"}}}],\"scattercarpet\":[{\"type\":\"scattercarpet\",\"marker\":{\"colorbar\":{\"outlinewidth\":0,\"ticks\":\"\"}}}],\"carpet\":[{\"aaxis\":{\"endlinecolor\":\"#2a3f5f\",\"gridcolor\":\"white\",\"linecolor\":\"white\",\"minorgridcolor\":\"white\",\"startlinecolor\":\"#2a3f5f\"},\"baxis\":{\"endlinecolor\":\"#2a3f5f\",\"gridcolor\":\"white\",\"linecolor\":\"white\",\"minorgridcolor\":\"white\",\"startlinecolor\":\"#2a3f5f\"},\"type\":\"carpet\"}],\"table\":[{\"cells\":{\"fill\":{\"color\":\"#EBF0F8\"},\"line\":{\"color\":\"white\"}},\"header\":{\"fill\":{\"color\":\"#C8D4E3\"},\"line\":{\"color\":\"white\"}},\"type\":\"table\"}],\"barpolar\":[{\"marker\":{\"line\":{\"color\":\"#E5ECF6\",\"width\":0.5},\"pattern\":{\"fillmode\":\"overlay\",\"size\":10,\"solidity\":0.2}},\"type\":\"barpolar\"}],\"pie\":[{\"automargin\":true,\"type\":\"pie\"}]},\"layout\":{\"autotypenumbers\":\"strict\",\"colorway\":[\"#636efa\",\"#EF553B\",\"#00cc96\",\"#ab63fa\",\"#FFA15A\",\"#19d3f3\",\"#FF6692\",\"#B6E880\",\"#FF97FF\",\"#FECB52\"],\"font\":{\"color\":\"#2a3f5f\"},\"hovermode\":\"closest\",\"hoverlabel\":{\"align\":\"left\"},\"paper_bgcolor\":\"white\",\"plot_bgcolor\":\"#E5ECF6\",\"polar\":{\"bgcolor\":\"#E5ECF6\",\"angularaxis\":{\"gridcolor\":\"white\",\"linecolor\":\"white\",\"ticks\":\"\"},\"radialaxis\":{\"gridcolor\":\"white\",\"linecolor\":\"white\",\"ticks\":\"\"}},\"ternary\":{\"bgcolor\":\"#E5ECF6\",\"aaxis\":{\"gridcolor\":\"white\",\"linecolor\":\"white\",\"ticks\":\"\"},\"baxis\":{\"gridcolor\":\"white\",\"linecolor\":\"white\",\"ticks\":\"\"},\"caxis\":{\"gridcolor\":\"white\",\"linecolor\":\"white\",\"ticks\":\"\"}},\"coloraxis\":{\"colorbar\":{\"outlinewidth\":0,\"ticks\":\"\"}},\"colorscale\":{\"sequential\":[[0.0,\"#0d0887\"],[0.1111111111111111,\"#46039f\"],[0.2222222222222222,\"#7201a8\"],[0.3333333333333333,\"#9c179e\"],[0.4444444444444444,\"#bd3786\"],[0.5555555555555556,\"#d8576b\"],[0.6666666666666666,\"#ed7953\"],[0.7777777777777778,\"#fb9f3a\"],[0.8888888888888888,\"#fdca26\"],[1.0,\"#f0f921\"]],\"sequentialminus\":[[0.0,\"#0d0887\"],[0.1111111111111111,\"#46039f\"],[0.2222222222222222,\"#7201a8\"],[0.3333333333333333,\"#9c179e\"],[0.4444444444444444,\"#bd3786\"],[0.5555555555555556,\"#d8576b\"],[0.6666666666666666,\"#ed7953\"],[0.7777777777777778,\"#fb9f3a\"],[0.8888888888888888,\"#fdca26\"],[1.0,\"#f0f921\"]],\"diverging\":[[0,\"#8e0152\"],[0.1,\"#c51b7d\"],[0.2,\"#de77ae\"],[0.3,\"#f1b6da\"],[0.4,\"#fde0ef\"],[0.5,\"#f7f7f7\"],[0.6,\"#e6f5d0\"],[0.7,\"#b8e186\"],[0.8,\"#7fbc41\"],[0.9,\"#4d9221\"],[1,\"#276419\"]]},\"xaxis\":{\"gridcolor\":\"white\",\"linecolor\":\"white\",\"ticks\":\"\",\"title\":{\"standoff\":15},\"zerolinecolor\":\"white\",\"automargin\":true,\"zerolinewidth\":2},\"yaxis\":{\"gridcolor\":\"white\",\"linecolor\":\"white\",\"ticks\":\"\",\"title\":{\"standoff\":15},\"zerolinecolor\":\"white\",\"automargin\":true,\"zerolinewidth\":2},\"scene\":{\"xaxis\":{\"backgroundcolor\":\"#E5ECF6\",\"gridcolor\":\"white\",\"linecolor\":\"white\",\"showbackground\":true,\"ticks\":\"\",\"zerolinecolor\":\"white\",\"gridwidth\":2},\"yaxis\":{\"backgroundcolor\":\"#E5ECF6\",\"gridcolor\":\"white\",\"linecolor\":\"white\",\"showbackground\":true,\"ticks\":\"\",\"zerolinecolor\":\"white\",\"gridwidth\":2},\"zaxis\":{\"backgroundcolor\":\"#E5ECF6\",\"gridcolor\":\"white\",\"linecolor\":\"white\",\"showbackground\":true,\"ticks\":\"\",\"zerolinecolor\":\"white\",\"gridwidth\":2}},\"shapedefaults\":{\"line\":{\"color\":\"#2a3f5f\"}},\"annotationdefaults\":{\"arrowcolor\":\"#2a3f5f\",\"arrowhead\":0,\"arrowwidth\":1},\"geo\":{\"bgcolor\":\"white\",\"landcolor\":\"#E5ECF6\",\"subunitcolor\":\"white\",\"showland\":true,\"showlakes\":true,\"lakecolor\":\"white\"},\"title\":{\"x\":0.05},\"mapbox\":{\"style\":\"light\"}}},\"title\":{\"text\":\"Sample Plotly Scattergeo\"}},                        {\"responsive\": true}                    ).then(function(){\n",
       "                            \n",
       "var gd = document.getElementById('e37ac878-a5d6-4e11-b866-5104d6a5d179');\n",
       "var x = new MutationObserver(function (mutations, observer) {{\n",
       "        var display = window.getComputedStyle(gd).display;\n",
       "        if (!display || display === 'none') {{\n",
       "            console.log([gd, 'removed!']);\n",
       "            Plotly.purge(gd);\n",
       "            observer.disconnect();\n",
       "        }}\n",
       "}});\n",
       "\n",
       "// Listen for the removal of the full notebook cells\n",
       "var notebookContainer = gd.closest('#notebook-container');\n",
       "if (notebookContainer) {{\n",
       "    x.observe(notebookContainer, {childList: true});\n",
       "}}\n",
       "\n",
       "// Listen for the clearing of the current output cell\n",
       "var outputEl = gd.closest('.output');\n",
       "if (outputEl) {{\n",
       "    x.observe(outputEl, {childList: true});\n",
       "}}\n",
       "\n",
       "                        })                };                });            </script>        </div>"
      ]
     },
     "metadata": {},
     "output_type": "display_data"
    }
   ],
   "source": [
    "import plotly.graph_objects as go\n",
    "\n",
    "# Create a simple Plotly figure\n",
    "fig = go.Figure(data=go.Scattergeo(\n",
    "    lon=[-100, -90, -80],\n",
    "    lat=[40, 50, 60],\n",
    "    mode='markers'\n",
    "))\n",
    "fig.update_layout(title='Sample Plotly Scattergeo')"
   ]
  },
  {
   "cell_type": "code",
   "execution_count": 51,
   "id": "1eeba062-9fa3-4cce-808c-f2184f4c54fa",
   "metadata": {
    "execution": {
     "iopub.execute_input": "2024-11-12T11:33:21.198017Z",
     "iopub.status.busy": "2024-11-12T11:33:21.196877Z",
     "iopub.status.idle": "2024-11-12T11:33:21.209005Z",
     "shell.execute_reply": "2024-11-12T11:33:21.208062Z",
     "shell.execute_reply.started": "2024-11-12T11:33:21.197957Z"
    }
   },
   "outputs": [
    {
     "data": {
      "application/vnd.dataresource+json": {
       "data": [
        {
         "age": 30,
         "city": "New York",
         "id": 1,
         "name": "Alice"
        },
        {
         "age": 25,
         "city": "San Francisco",
         "id": 2,
         "name": "Bob"
        },
        {
         "age": 35,
         "city": "London",
         "id": 3,
         "name": "Charlie"
        },
        {
         "age": 28,
         "city": "Paris",
         "id": 4,
         "name": "Diana"
        }
       ],
       "schema": {
        "fields": [
         {
          "name": "id",
          "type": "integer"
         },
         {
          "name": "name",
          "type": "string"
         },
         {
          "name": "age",
          "type": "integer"
         },
         {
          "name": "city",
          "type": "string"
         }
        ],
        "primaryKey": [
         "id"
        ]
       }
      },
      "text/plain": [
       "<__main__.DataResource at 0x33337d3d0>"
      ]
     },
     "metadata": {},
     "output_type": "display_data"
    }
   ],
   "source": [
    "import json\n",
    "from IPython.display import display\n",
    "\n",
    "# Sample data\n",
    "data = [\n",
    "    {\"id\": 1, \"name\": \"Alice\", \"age\": 30, \"city\": \"New York\"},\n",
    "    {\"id\": 2, \"name\": \"Bob\", \"age\": 25, \"city\": \"San Francisco\"},\n",
    "    {\"id\": 3, \"name\": \"Charlie\", \"age\": 35, \"city\": \"London\"},\n",
    "    {\"id\": 4, \"name\": \"Diana\", \"age\": 28, \"city\": \"Paris\"}\n",
    "]\n",
    "\n",
    "# Table Schema\n",
    "schema = {\n",
    "    \"fields\": [\n",
    "        {\"name\": \"id\", \"type\": \"integer\"},\n",
    "        {\"name\": \"name\", \"type\": \"string\"},\n",
    "        {\"name\": \"age\", \"type\": \"integer\"},\n",
    "        {\"name\": \"city\", \"type\": \"string\"}\n",
    "    ],\n",
    "    \"primaryKey\": [\"id\"]\n",
    "}\n",
    "\n",
    "# Tabular Data Resource\n",
    "tabular_data_resource = {\n",
    "    \"schema\": schema,\n",
    "    \"data\": data\n",
    "}\n",
    "\n",
    "class DataResource:\n",
    "    def __init__(self, resource):\n",
    "        self.resource = resource\n",
    "\n",
    "    def _repr_mimebundle_(self, include=None, exclude=None):\n",
    "        return {\n",
    "            \"application/vnd.dataresource+json\": self.resource\n",
    "        }\n",
    "\n",
    "# Create an instance of DataResource\n",
    "dr = DataResource(tabular_data_resource)\n",
    "\n",
    "# Display the Data Resource\n",
    "display(dr)"
   ]
  },
  {
   "cell_type": "code",
   "execution_count": null,
   "id": "10702321-ac1a-48af-aced-04af977fe6fd",
   "metadata": {},
   "outputs": [],
   "source": []
  }
 ],
 "metadata": {
  "kernelspec": {
   "display_name": "Anaconda",
   "language": "python",
   "name": "anaconda"
  },
  "language_info": {
   "codemirror_mode": {
    "name": "ipython",
    "version": 3
   },
   "file_extension": ".py",
   "mimetype": "text/x-python",
   "name": "python",
   "nbconvert_exporter": "python",
   "pygments_lexer": "ipython3",
   "version": "3.12.2"
  },
  "panel-cell-order": [
   "f3482291-7aad-4327-b3f1-700ffba5dcb5",
   "3c588eba-4bca-478c-b0cb-6f9c33a92e38",
   "b4c504d8-d8a8-464b-beca-8bc4497b2fa4"
  ]
 },
 "nbformat": 4,
 "nbformat_minor": 5
}
